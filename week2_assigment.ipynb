{
 "cells": [
  {
   "cell_type": "code",
   "execution_count": 5,
   "id": "b70af369-b024-4b94-af36-ad32d7bcf0e8",
   "metadata": {},
   "outputs": [
    {
     "name": "stdout",
     "output_type": "stream",
     "text": [
      "[('Juan', 25), ('Pedro', 30), ('Jose', 35)]\n"
     ]
    }
   ],
   "source": [
    "#I will explore the `zip()` function in Python, which allows us to combine two or more iterables.\n",
    "#This can be useful fot pairing data together in a simple way.\n",
    "\n",
    "#Basic use of zip() pairing to elements from two iteriables.\n",
    "names = [\"Juan\",\"Pedro\",\"Jose\"]\n",
    "ages = [25, 30, 35]\n",
    "\n",
    "zipped = zip(names, ages)\n",
    "print(list(zipped))"
   ]
  },
  {
   "cell_type": "code",
   "execution_count": 3,
   "id": "695b0e4a-48ce-46b1-be9b-c105b2c84589",
   "metadata": {},
   "outputs": [
    {
     "name": "stdout",
     "output_type": "stream",
     "text": [
      "[('Pedro', 20), ('Stanley', 30)]\n"
     ]
    }
   ],
   "source": [
    "#Different length\n",
    "# If one list is shoter than another, only read up to that point.\n",
    "\n",
    "names = [\"Pedro\",\"Stanley\"]\n",
    "ages = [20, 30, 40]\n",
    "\n",
    "zipped = zip(names, ages)\n",
    "print(list(zipped))\n",
    "\n"
   ]
  },
  {
   "cell_type": "code",
   "execution_count": null,
   "id": "b1d87883-bb89-4086-9d59-61ca446570f6",
   "metadata": {},
   "outputs": [
    {
     "name": "stdout",
     "output_type": "stream",
     "text": [
      "{'Stanley': 'A', 'Javier': 'B', 'Aybar': 'A-'}\n"
     ]
    }
   ],
   "source": [
    "#Practical example\n",
    "# Combaning student names with their grades using zip()\n",
    "\n",
    "students = [\"Stanley\", \"Javier\",\"Aybar\"]\n",
    "grades = [\"A\",\"B\",\"A-\"]\n",
    "\n",
    "studentGrades = dict(zip(students, grades))\n",
    "print(studentGrades)"
   ]
  },
  {
   "cell_type": "code",
   "execution_count": null,
   "id": "c24336e4-c5c3-4a48-8cb7-d6d07c35e8a9",
   "metadata": {},
   "outputs": [],
   "source": []
  }
 ],
 "metadata": {
  "kernelspec": {
   "display_name": "Python [conda env:base] *",
   "language": "python",
   "name": "conda-base-py"
  },
  "language_info": {
   "codemirror_mode": {
    "name": "ipython",
    "version": 3
   },
   "file_extension": ".py",
   "mimetype": "text/x-python",
   "name": "python",
   "nbconvert_exporter": "python",
   "pygments_lexer": "ipython3",
   "version": "3.13.5"
  }
 },
 "nbformat": 4,
 "nbformat_minor": 5
}
